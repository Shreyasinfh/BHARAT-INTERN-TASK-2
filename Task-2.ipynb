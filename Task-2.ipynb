{
 "cells": [
  {
   "cell_type": "code",
   "execution_count": null,
   "metadata": {},
   "outputs": [],
   "source": [
    "#-----------Task-2----------\n",
    "#----AUTO CORRECT TOOL------ \n",
    "from textblob import TextBlob\n",
    "misspelled_word=input(\"Enter word: \")\n",
    "corrected_word=TextBlob(misspelled_word).correct()\n",
    "print(\"Incorrect word :\",misspelled_word)\n",
    "print(\"Corrected Word :\",corrected_word)"
   ]
  }
 ],
 "metadata": {
  "language_info": {
   "name": "python"
  },
  "orig_nbformat": 4
 },
 "nbformat": 4,
 "nbformat_minor": 2
}
